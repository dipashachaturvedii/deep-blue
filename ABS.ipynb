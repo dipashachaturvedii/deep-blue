{
 "cells": [
  {
   "cell_type": "code",
   "execution_count": 2,
   "id": "9877f979",
   "metadata": {},
   "outputs": [],
   "source": [
    "import csv\n",
    "\n",
    "class WheelSpeedSensor:\n",
    "    def __init__(self, wheel_id):\n",
    "        self.wheel_id = wheel_id\n",
    "\n",
    "    def get_speed(self):\n",
    "        # simulate reading wheel speed\n",
    "        return 10 + (self.wheel_id * 2) # example reading\n",
    "\n",
    "class ABS:\n",
    "    def __init__(self, wheel_speed_sensors):\n",
    "        self.wheel_speed_sensors = wheel_speed_sensors\n",
    "\n",
    "    def get_data(self):\n",
    "        # get data from wheel speed sensors\n",
    "        wheel_speeds = [sensor.get_speed() for sensor in self.wheel_speed_sensors]\n",
    "        return wheel_speeds\n",
    "\n",
    "class AccidentInvestigator:\n",
    "    def __init__(self, abs_system):\n",
    "        self.abs_system = abs_system\n",
    "\n",
    "    def investigate_accident(self, accident_id):\n",
    "        # get data from ABS system\n",
    "        wheel_speeds = self.abs_system.get_data()\n",
    "\n",
    "        # write data to file\n",
    "        with open(f'accident_{accident_id}.csv', 'w') as f:\n",
    "            writer = csv.writer(f)\n",
    "            writer.writerow(['Wheel', 'Speed'])\n",
    "            for i, speed in enumerate(wheel_speeds):\n",
    "                writer.writerow([i, speed])\n",
    "\n",
    "# Example usage:\n",
    "\n",
    "# Initialize wheel speed sensors\n",
    "sensors = [WheelSpeedSensor(i) for i in range(4)]\n",
    "\n",
    "# Initialize ABS\n",
    "abs_system = ABS(sensors)\n",
    "\n",
    "# Initialize accident investigator\n",
    "investigator = AccidentInvestigator(abs_system)\n",
    "\n",
    "# Investigate accident\n",
    "investigator.investigate_accident(1)\n",
    "#coded by Abhir"
   ]
  },
  {
   "cell_type": "code",
   "execution_count": null,
   "id": "0ee36fff",
   "metadata": {},
   "outputs": [],
   "source": []
  }
 ],
 "metadata": {
  "kernelspec": {
   "display_name": "Python 3 (ipykernel)",
   "language": "python",
   "name": "python3"
  },
  "language_info": {
   "codemirror_mode": {
    "name": "ipython",
    "version": 3
   },
   "file_extension": ".py",
   "mimetype": "text/x-python",
   "name": "python",
   "nbconvert_exporter": "python",
   "pygments_lexer": "ipython3",
   "version": "3.9.7"
  }
 },
 "nbformat": 4,
 "nbformat_minor": 5
}
