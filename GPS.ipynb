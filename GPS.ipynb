{
 "cells": [
  {
   "cell_type": "code",
   "execution_count": 1,
   "id": "0c4a20c8",
   "metadata": {},
   "outputs": [],
   "source": [
    "import json\n",
    "class GPS:\n",
    "    def __init__(self):\n",
    "        self.longitude = 0.0  # current longitude\n",
    "        self.latitude = 0.0  # current latitude\n",
    "        self.speed = 0.0  # current speed\n",
    "\n",
    "    def get_location(self):\n",
    "        # simulate reading GPS data\n",
    "        self.longitude = -122.4194\n",
    "        self.latitude = 37.7749\n",
    "        self.speed = 50.0\n",
    "        return self.longitude, self.latitude, self.speed\n",
    "\n",
    "\n",
    "class AccidentInvestigator:\n",
    "    def __init__(self, gps):\n",
    "        self.gps = gps\n",
    "\n",
    "    def investigate_accident(self, accident_id):\n",
    "        longitude, latitude, speed = self.gps.get_location()\n",
    "        data = {\n",
    "            'accident_id': accident_id,\n",
    "            'location': {\n",
    "                'longitude': longitude,\n",
    "                'latitude': latitude\n",
    "            },\n",
    "            'speed': speed\n",
    "        }\n",
    "        with open(f'accident_{accident_id}.json', 'w') as f:\n",
    "            json.dump(data, f)\n",
    "\n",
    "# Example usage:\n",
    "\n",
    "# Initialize GPS\n",
    "gps = GPS()\n",
    "\n",
    "# Initialize accident investigator\n",
    "investigator = AccidentInvestigator(gps)\n",
    "\n",
    "# Investigate accident\n",
    "investigator.investigate_accident(1)\n"
   ]
  },
  {
   "cell_type": "code",
   "execution_count": null,
   "id": "dc1a6ce1",
   "metadata": {},
   "outputs": [],
   "source": []
  }
 ],
 "metadata": {
  "kernelspec": {
   "display_name": "Python 3 (ipykernel)",
   "language": "python",
   "name": "python3"
  },
  "language_info": {
   "codemirror_mode": {
    "name": "ipython",
    "version": 3
   },
   "file_extension": ".py",
   "mimetype": "text/x-python",
   "name": "python",
   "nbconvert_exporter": "python",
   "pygments_lexer": "ipython3",
   "version": "3.10.7"
  }
 },
 "nbformat": 4,
 "nbformat_minor": 5
}
